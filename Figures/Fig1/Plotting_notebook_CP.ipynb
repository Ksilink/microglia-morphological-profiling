{
 "cells": [
  {
   "cell_type": "markdown",
   "metadata": {},
   "source": [
    "Imports"
   ]
  },
  {
   "cell_type": "code",
   "execution_count": null,
   "metadata": {},
   "outputs": [],
   "source": [
    "import os\n",
    "import pandas as pd\n",
    "import numpy as np\n",
    "import matplotlib.pyplot as plt\n",
    "import seaborn as sns\n",
    "\n",
    "from sklearn.decomposition import PCA\n",
    "from sklearn.preprocessing import StandardScaler, RobustScaler\n",
    "from sklearn.pipeline import Pipeline\n",
    "from statannotations.Annotator import Annotator"
   ]
  },
  {
   "cell_type": "markdown",
   "metadata": {},
   "source": [
    "Load data and group single cell data based on Well & Replicate"
   ]
  },
  {
   "cell_type": "code",
   "execution_count": 51,
   "metadata": {},
   "outputs": [
    {
     "name": "stdout",
     "output_type": "stream",
     "text": [
      "Number of rows: 114\n"
     ]
    },
    {
     "name": "stderr",
     "output_type": "stream",
     "text": [
      "C:\\Users\\JohannesWilbertz\\AppData\\Local\\Temp\\ipykernel_33568\\1336435514.py:17: FutureWarning: The default value of numeric_only in DataFrameGroupBy.mean is deprecated. In a future version, numeric_only will default to False. Either specify numeric_only or select only columns which should be valid for the function.\n",
      "  main_df = main_df.groupby(['Replicate', 'Category', 'Metadata_Well']).mean().reset_index()\n"
     ]
    }
   ],
   "source": [
    "# Load the CSV files of replicate experimental data\n",
    "data_exp03 = pd.read_csv('Data/Data_Exp03_CP_HC_SingleCells.csv')\n",
    "data_exp05 = pd.read_csv('Data/Data_Exp05_CP_HC_SingleCells.csv')\n",
    "data_exp06 = pd.read_csv('Data/Data_Exp06_CP_HC_SingleCells.csv')\n",
    "\n",
    "data_exp03['Replicate'] = 'Exp03'\n",
    "data_exp05['Replicate'] = 'Exp05'\n",
    "data_exp06['Replicate'] = 'Exp06'\n",
    "\n",
    "# Merge the dataframes into a single dataframe\n",
    "main_df = pd.concat([data_exp03, data_exp05, data_exp06]).reset_index(drop=True)\n",
    "\n",
    "#Keep single cell data\n",
    "single_cell_df = main_df.copy()\n",
    "\n",
    "# Group the data based on 'Replicate' and 'Well' and calculate the mean\n",
    "main_df = main_df.groupby(['Replicate', 'Category', 'Metadata_Well']).mean().reset_index()\n",
    "\n",
    "num_rows = len(main_df)\n",
    "print(\"Number of rows:\", num_rows)"
   ]
  },
  {
   "cell_type": "markdown",
   "metadata": {},
   "source": [
    "Plot settings"
   ]
  },
  {
   "cell_type": "code",
   "execution_count": null,
   "metadata": {},
   "outputs": [],
   "source": [
    "# What to plot?\n",
    "data = main_df.copy()\n",
    "x = 'Category'\n",
    "y = 'Granularity_10_OrigMito' # AreaShape_Area, Intensity_IntegratedIntensity_OrigAGP, Granularity_10_OrigMito\n",
    "ytitle = y\n",
    "order = ['Untreated', 'LPS', 'Nigericin', 'LPS/Nigericin']\n",
    "hue = 'Category'\n",
    "\n",
    "# Set colors\n",
    "# Define a dictionary that maps categories to colors\n",
    "color_dict = {'Untreated': 'gray', 'LPS': 'orange', 'Nigericin': 'red', 'LPS/Nigericin': 'purple'}\n",
    "\n",
    "# Set the style and font\n",
    "plt.rcParams[\"font.family\"] = \"Arial\"\n",
    "sns.set_context('talk')"
   ]
  },
  {
   "cell_type": "markdown",
   "metadata": {},
   "source": [
    "Create super plot showing all data points and replicate medians"
   ]
  },
  {
   "cell_type": "code",
   "execution_count": null,
   "metadata": {},
   "outputs": [],
   "source": [
    "# Create the plot\n",
    "plt.figure(figsize=(3, 4))\n",
    "\n",
    "# Boxplot\n",
    "ax = sns.boxplot(x=x, y=y, data=data, showfliers=False, hue=hue, order=order, zorder=1, width=0.5, linewidth=2, dodge=False)  \n",
    "# Transparancy of boxplot filling color\n",
    "for patch in ax.patches: #patches\n",
    "    r, g, b, a = patch.get_facecolor()\n",
    "    patch.set_facecolor((r, g, b, 0))\n",
    "\n",
    "ax = sns.stripplot(x=x, y=y, data=data, size=7, alpha=0.2, zorder=0, hue=hue, order=order, jitter=0.2, palette=color_dict, dodge=False)\n",
    "\n",
    "# Add replicate averages on top of plot\n",
    "ReplicateAverages = data.groupby([x, 'Replicate'], as_index=False).agg({y: \"median\"})\n",
    "ReplicateAverages = ReplicateAverages.sort_values([x, 'Replicate']) # Sorting is necessary to plot averages accurately on dataclouds\n",
    "\n",
    "ax = sns.stripplot(x=x, y=y, size=10, edgecolor=\"k\", linewidth=2, palette=color_dict, data=ReplicateAverages, order=order, jitter=0.1, hue=hue, dodge=False)\n",
    "\n",
    "# Figure aesthetics\n",
    "ax.set(xlabel=None)\n",
    "ax.set(ylabel=y)\n",
    "ax.set_ylim(0, None)\n",
    "sns.despine()\n",
    "ax.get_legend().remove()\n",
    "ax.set_xticklabels(ax.get_xticklabels(),rotation=45, ha='right', rotation_mode=\"anchor\")\n",
    "\n",
    "# Add statistical annotation on top of figure\n",
    "pairs=[\n",
    "    (\"Untreated\", \"LPS\"),\n",
    "    (\"Untreated\", \"Nigericin\"),\n",
    "    (\"Untreated\", \"LPS/Nigericin\")\n",
    "    ]\n",
    "\n",
    "annot = Annotator(ax, pairs, data=ReplicateAverages, x=x, y=y, order=order)\n",
    "annot.configure(test='t-test_ind', verbose=2, loc='outside')\n",
    "annot.apply_test()\n",
    "annot.annotate()\n",
    "\n",
    "# Saving plot\n",
    "plt.savefig('CP_'+ y + '.pdf', bbox_inches='tight')\n",
    "\n",
    "plt.show()"
   ]
  }
 ],
 "metadata": {
  "kernelspec": {
   "display_name": "tools",
   "language": "python",
   "name": "python3"
  },
  "language_info": {
   "codemirror_mode": {
    "name": "ipython",
    "version": 3
   },
   "file_extension": ".py",
   "mimetype": "text/x-python",
   "name": "python",
   "nbconvert_exporter": "python",
   "pygments_lexer": "ipython3",
   "version": "3.10.9"
  }
 },
 "nbformat": 4,
 "nbformat_minor": 2
}
